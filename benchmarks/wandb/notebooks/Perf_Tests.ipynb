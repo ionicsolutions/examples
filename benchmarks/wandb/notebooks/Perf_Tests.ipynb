{
 "cells": [
  {
   "cell_type": "markdown",
   "metadata": {},
   "source": [
    "# Neptune vs WandB Performance Tests\n",
    "In this notebook we'll run perfomance tests on experiment tracking tools. We'll use the [PyTorch](https://pytorch.org/) framework to train a simple neural network on the [MNIST](http://yann.lecun.com/exdb/mnist/) dataset.\n",
    "\n",
    "We'll use the [Neptune](https://neptune.ai/) and [Weights & Biases](https://wandb.ai/) experiment tracking tools to log the results of our experiments. We'll then compare the performance of the two tools."
   ]
  },
  {
   "cell_type": "markdown",
   "metadata": {},
   "source": [
    "## Install the required libraries"
   ]
  },
  {
   "cell_type": "code",
   "execution_count": null,
   "metadata": {},
   "outputs": [],
   "source": [
    "!pip install -U neptune[pytorch] wandb numpy torch torchvision torchviz"
   ]
  },
  {
   "cell_type": "code",
   "execution_count": null,
   "metadata": {},
   "outputs": [],
   "source": [
    "# Import time module\n",
    "import time"
   ]
  },
  {
   "cell_type": "markdown",
   "metadata": {},
   "source": [
    "## Without experiment tracking\n"
   ]
  },
  {
   "cell_type": "code",
   "execution_count": null,
   "metadata": {},
   "outputs": [],
   "source": [
    "# record start time\n",
    "start = time.time()\n",
    "\n",
    "!python ../scripts/pytorch_script.py\n",
    "\n",
    "# record end time\n",
    "end = time.time()\n",
    "\n",
    "# print the difference between start\n",
    "# and end time in milli. secs\n",
    "print(\"The time of execution of above program is :\", (end - start) * 10**3, \"ms\")"
   ]
  },
  {
   "cell_type": "markdown",
   "metadata": {},
   "source": [
    "## Neptune\n",
    "-------\n",
    "Neptune is a metadata store that offers experiment tracking and model registry for machine learning researchers and engineers. With Neptune, you can log, query, manage, display, and compare all your model metadata in a single place.\n",
    "\n"
   ]
  },
  {
   "cell_type": "code",
   "execution_count": null,
   "metadata": {
    "editable": true,
    "slideshow": {
     "slide_type": ""
    },
    "tags": []
   },
   "outputs": [],
   "source": [
    "# record start time\n",
    "start = time.time()\n",
    "\n",
    "!python ../scripts/neptune_script.py\n",
    "\n",
    "# record end time\n",
    "end = time.time()\n",
    "\n",
    "# print the difference between start\n",
    "# and end time in milli. secs\n",
    "print(\"The time of execution of above program is :\", (end - start) * 10**3, \"ms\")"
   ]
  },
  {
   "cell_type": "markdown",
   "metadata": {},
   "source": [
    "## WandB\n",
    "-------\n",
    "Weights & Biases makes it easy to track your experiments, manage & version your data, and collaborate with your team so you can focus on building the best models."
   ]
  },
  {
   "cell_type": "code",
   "execution_count": null,
   "metadata": {
    "editable": true,
    "slideshow": {
     "slide_type": ""
    },
    "tags": []
   },
   "outputs": [],
   "source": [
    "# record start time\n",
    "start = time.time()\n",
    "\n",
    "!python ../scripts/wandb_script.py\n",
    "\n",
    "# record end time\n",
    "end = time.time()\n",
    "\n",
    "# print the difference between start\n",
    "# and end time in milli. secs\n",
    "print(\"The time of execution of above program is :\", (end - start) * 10**3, \"ms\")"
   ]
  }
 ],
 "metadata": {
  "kernelspec": {
   "display_name": "Python 3 (ipykernel)",
   "language": "python",
   "name": "python3"
  },
  "language_info": {
   "codemirror_mode": {
    "name": "ipython",
    "version": 3
   },
   "file_extension": ".py",
   "mimetype": "text/x-python",
   "name": "python",
   "nbconvert_exporter": "python",
   "pygments_lexer": "ipython3",
   "version": "3.10.11"
  }
 },
 "nbformat": 4,
 "nbformat_minor": 4
}
